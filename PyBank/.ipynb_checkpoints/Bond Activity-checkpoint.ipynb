{
 "cells": [
  {
   "cell_type": "code",
   "execution_count": 4,
   "metadata": {},
   "outputs": [],
   "source": [
    "# -*- coding: utf-8 -*-\n",
    "\"\"\"\n",
    "Zero-Coupon Bond Valuation.\n",
    "\n",
    "This script will calculate the present value of zero-coupon bonds, compare the present value to the price of the bond, and determine the corresponding action (buy, not buy, neutral).\n",
    "\"\"\"\n",
    "\n",
    "# @TODO: Create a function to calculate present value"
   ]
  },
  {
   "cell_type": "code",
   "execution_count": 20,
   "metadata": {},
   "outputs": [],
   "source": [
    "def calculate_present_value(future_value, discount_rate, compounding_periods, years):\n",
    "    PV = future_value/(1+(discount_rate/compounding_periods))**(compounding_periods*years)\n",
    "    return PV\n",
    "\n",
    "\n",
    "# Intialize the zero-coupon bond parameters, assume compounding period is equal to 1\n",
    "price = 700\n",
    "future_value = 1000\n",
    "discount_rate = .1\n",
    "compounding_periods = 1\n",
    "years = 5\n",
    "\n",
    "# @TODO: Call the calculate_present_value() function and assign to a variables\n",
    "\n",
    "\n",
    "\n",
    "\n",
    "\n",
    "# @TODO: Determine if the bond is worth it"
   ]
  },
  {
   "cell_type": "code",
   "execution_count": 21,
   "metadata": {},
   "outputs": [
    {
     "name": "stdout",
     "output_type": "stream",
     "text": [
      "620.9213230591549\n"
     ]
    }
   ],
   "source": [
    "print(calculate_present_value(future_value, discount_rate, compounding_periods, years))"
   ]
  },
  {
   "cell_type": "code",
   "execution_count": 22,
   "metadata": {},
   "outputs": [],
   "source": [
    "pv=calculate_present_value(future_value, discount_rate, compounding_periods, years)"
   ]
  },
  {
   "cell_type": "code",
   "execution_count": 23,
   "metadata": {},
   "outputs": [
    {
     "name": "stdout",
     "output_type": "stream",
     "text": [
      "sell\n"
     ]
    }
   ],
   "source": [
    "if pv>=price:\n",
    "    print(\"buy\")\n",
    "elif pv<price:\n",
    "    print(\"sell\")\n",
    "else:\n",
    "    print(\"hold\")"
   ]
  },
  {
   "cell_type": "code",
   "execution_count": null,
   "metadata": {},
   "outputs": [],
   "source": []
  }
 ],
 "metadata": {
  "kernelspec": {
   "display_name": "Python 3",
   "language": "python",
   "name": "python3"
  },
  "language_info": {
   "codemirror_mode": {
    "name": "ipython",
    "version": 3
   },
   "file_extension": ".py",
   "mimetype": "text/x-python",
   "name": "python",
   "nbconvert_exporter": "python",
   "pygments_lexer": "ipython3",
   "version": "3.8.3"
  }
 },
 "nbformat": 4,
 "nbformat_minor": 4
}
