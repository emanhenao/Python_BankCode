{
 "cells": [
  {
   "cell_type": "code",
   "execution_count": 43,
   "metadata": {},
   "outputs": [
    {
     "name": "stdout",
     "output_type": "stream",
     "text": [
      "Financial Analysis\n",
      "----------------------------\n",
      "Total Months: 86\n",
      "Total: $38382578\n",
      "Average Change: -2315.12\n",
      "Greatest Increase In Profits: Feb-2012 ($1926159)\n",
      "Greatest Decrease In Profits: Sep-2013 ($-2196167)\n"
     ]
    }
   ],
   "source": [
    "# Import the Budget CSV File \n",
    "from pathlib import Path\n",
    "import csv\n",
    "\n",
    "# Set the file path correct\n",
    "csvpath = Path('../../cu-nyc-fin-pt-09-2020-u-c/Homework/02-Python/Instructions/PyBank/Resources/budget_data.csv')\n",
    "\n",
    "# Set Metric Variables\n",
    "total_months = 0\n",
    "net_total = 0\n",
    "average_change = 0\n",
    "greatest_increase = 0\n",
    "greatest_decrease = 0\n",
    "i = 0\n",
    "prev_change = 0\n",
    "average_changes = {}\n",
    "greatest_increase_month = \"\"\n",
    "greatest_decrease_month = \"\"\n",
    "\n",
    "\n",
    "# Open the CSV File \n",
    "with open(csvpath, 'r') as csvfile:\n",
    "    csvreader = csv.reader(csvfile, delimiter=',')\n",
    "    csv_header = next(csvreader)\n",
    "    \n",
    "\n",
    "# The total number of months over the entire period.\n",
    "# The net total amount of Profit/Losses over the entire period.\n",
    "# The average of the changes in Profit/Losses over the entire period.\n",
    "    # Use enumerate to have access to both the loop count and csv row values \n",
    "    for i, row in enumerate(list(csvreader)):\n",
    "        # print(row)\n",
    "        total_months += 1\n",
    "        net_total += int(row[1])\n",
    "        # Only collect the changes of lumps after first month\n",
    "        if i > 0:\n",
    "            average_change = int(row[1]) - prev_change\n",
    "            average_changes[row[0]] = average_change\n",
    "        prev_change = int(row[1])     \n",
    "        if greatest_increase == 0:\n",
    "            greatest_increase += 1        \n",
    "        if int(row[1]) > greatest_increase:\n",
    "            greatest_increase = int(row[1])\n",
    "            greatest_increase_month = (row[0])\n",
    "        if int(row[1]) < greatest_decrease:\n",
    "            greatest_decrease = int(row[1])\n",
    "            greatest_decrease_month = (row[0])\n",
    "                \n",
    "            \n",
    "#The greatest increase in profits (date and amount) over the entire period.\n",
    "#The greatest decrease in losses (date and amount) over the entire period.\n",
    "\n",
    "greatest_increase = max(average_changes.values())\n",
    "greatest_decrease = min(average_changes.values())\n",
    "\n",
    "# Print Financial Analysis\n",
    "print(\"Financial Analysis\")\n",
    "print(\"----------------------------\")\n",
    "print(f\"Total Months: {total_months}\")\n",
    "print(f\"Total: ${net_total}\")\n",
    "print(f\"Average Change: {round(sum(average_changes.values())/len(average_changes.values()),2)}\")\n",
    "print(f\"Greatest Increase In Profits: {greatest_increase_month} (${greatest_increase})\")\n",
    "print(f\"Greatest Decrease In Profits: {greatest_decrease_month} (${greatest_decrease})\")"
   ]
  },
  {
   "cell_type": "code",
   "execution_count": null,
   "metadata": {},
   "outputs": [],
   "source": []
  }
 ],
 "metadata": {
  "kernelspec": {
   "display_name": "Python 3",
   "language": "python",
   "name": "python3"
  },
  "language_info": {
   "codemirror_mode": {
    "name": "ipython",
    "version": 3
   },
   "file_extension": ".py",
   "mimetype": "text/x-python",
   "name": "python",
   "nbconvert_exporter": "python",
   "pygments_lexer": "ipython3",
   "version": "3.8.3"
  }
 },
 "nbformat": 4,
 "nbformat_minor": 4
}
